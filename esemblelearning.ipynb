{
 "cells": [
  {
   "cell_type": "code",
   "execution_count": 1,
   "id": "ba8d8e26",
   "metadata": {
    "_cell_guid": "b1076dfc-b9ad-4769-8c92-a6c4dae69d19",
    "_uuid": "8f2839f25d086af736a60e9eeb907d3b93b6e0e5",
    "execution": {
     "iopub.execute_input": "2025-03-03T16:51:08.659267Z",
     "iopub.status.busy": "2025-03-03T16:51:08.658966Z",
     "iopub.status.idle": "2025-03-03T16:51:09.367864Z",
     "shell.execute_reply": "2025-03-03T16:51:09.366879Z"
    },
    "papermill": {
     "duration": 0.718352,
     "end_time": "2025-03-03T16:51:09.369232",
     "exception": false,
     "start_time": "2025-03-03T16:51:08.650880",
     "status": "completed"
    },
    "tags": []
   },
   "outputs": [
    {
     "name": "stdout",
     "output_type": "stream",
     "text": [
      "/kaggle/input/sub-ml/sub2.csv\n",
      "/kaggle/input/glove-6b-100/glove.6B.100d.txt\n",
      "/kaggle/input/learning-agency-lab-automated-essay-scoring-2/sample_submission.csv\n",
      "/kaggle/input/learning-agency-lab-automated-essay-scoring-2/train.csv\n",
      "/kaggle/input/learning-agency-lab-automated-essay-scoring-2/test.csv\n"
     ]
    }
   ],
   "source": [
    "# This Python 3 environment comes with many helpful analytics libraries installed\n",
    "# It is defined by the kaggle/python Docker image: https://github.com/kaggle/docker-python\n",
    "# For example, here's several helpful packages to load\n",
    "\n",
    "import numpy as np # linear algebra\n",
    "import pandas as pd # data processing, CSV file I/O (e.g. pd.read_csv)\n",
    "\n",
    "# Input data files are available in the read-only \"../input/\" directory\n",
    "# For example, running this (by clicking run or pressing Shift+Enter) will list all files under the input directory\n",
    "\n",
    "import os\n",
    "for dirname, _, filenames in os.walk('/kaggle/input'):\n",
    "    for filename in filenames:\n",
    "        print(os.path.join(dirname, filename))\n",
    "\n",
    "# You can write up to 20GB to the current directory (/kaggle/working/) that gets preserved as output when you create a version using \"Save & Run All\" \n",
    "# You can also write temporary files to /kaggle/temp/, but they won't be saved outside of the current session"
   ]
  },
  {
   "cell_type": "code",
   "execution_count": 2,
   "id": "7e0e17a9",
   "metadata": {
    "execution": {
     "iopub.execute_input": "2025-03-03T16:51:09.381327Z",
     "iopub.status.busy": "2025-03-03T16:51:09.380905Z",
     "iopub.status.idle": "2025-03-03T16:51:13.677613Z",
     "shell.execute_reply": "2025-03-03T16:51:13.676381Z"
    },
    "papermill": {
     "duration": 4.304461,
     "end_time": "2025-03-03T16:51:13.679501",
     "exception": false,
     "start_time": "2025-03-03T16:51:09.375040",
     "status": "completed"
    },
    "tags": []
   },
   "outputs": [],
   "source": [
    "!pip install -q transformers"
   ]
  },
  {
   "cell_type": "code",
   "execution_count": 3,
   "id": "0dc5537a",
   "metadata": {
    "execution": {
     "iopub.execute_input": "2025-03-03T16:51:13.691895Z",
     "iopub.status.busy": "2025-03-03T16:51:13.691620Z",
     "iopub.status.idle": "2025-03-03T16:51:26.599931Z",
     "shell.execute_reply": "2025-03-03T16:51:26.599233Z"
    },
    "papermill": {
     "duration": 12.916139,
     "end_time": "2025-03-03T16:51:26.601629",
     "exception": false,
     "start_time": "2025-03-03T16:51:13.685490",
     "status": "completed"
    },
    "tags": []
   },
   "outputs": [],
   "source": [
    "import tensorflow as tf\n",
    "from tensorflow.keras.layers import Input, Dense, LSTM, Embedding, Dropout, Bidirectional, LayerNormalization, GlobalAveragePooling1D\n",
    "from tensorflow.keras.models import Sequential, Model\n",
    "from tensorflow.keras.preprocessing.text import Tokenizer\n",
    "from tensorflow.keras.preprocessing.sequence import pad_sequences\n",
    "from sklearn.model_selection import train_test_split\n",
    "from tensorflow.keras.optimizers import Adam\n",
    "\n",
    "import pandas as pd\n",
    "import numpy as np\n",
    "import matplotlib.pyplot as plt"
   ]
  },
  {
   "cell_type": "code",
   "execution_count": 4,
   "id": "6c5dc577",
   "metadata": {
    "execution": {
     "iopub.execute_input": "2025-03-03T16:51:26.613719Z",
     "iopub.status.busy": "2025-03-03T16:51:26.613263Z",
     "iopub.status.idle": "2025-03-03T16:51:27.384179Z",
     "shell.execute_reply": "2025-03-03T16:51:27.383274Z"
    },
    "papermill": {
     "duration": 0.778203,
     "end_time": "2025-03-03T16:51:27.385573",
     "exception": false,
     "start_time": "2025-03-03T16:51:26.607370",
     "status": "completed"
    },
    "tags": []
   },
   "outputs": [
    {
     "data": {
      "text/html": [
       "<div>\n",
       "<style scoped>\n",
       "    .dataframe tbody tr th:only-of-type {\n",
       "        vertical-align: middle;\n",
       "    }\n",
       "\n",
       "    .dataframe tbody tr th {\n",
       "        vertical-align: top;\n",
       "    }\n",
       "\n",
       "    .dataframe thead th {\n",
       "        text-align: right;\n",
       "    }\n",
       "</style>\n",
       "<table border=\"1\" class=\"dataframe\">\n",
       "  <thead>\n",
       "    <tr style=\"text-align: right;\">\n",
       "      <th></th>\n",
       "      <th>essay_id</th>\n",
       "      <th>full_text</th>\n",
       "      <th>score</th>\n",
       "    </tr>\n",
       "  </thead>\n",
       "  <tbody>\n",
       "    <tr>\n",
       "      <th>0</th>\n",
       "      <td>000d118</td>\n",
       "      <td>Many people have car where they live. The thin...</td>\n",
       "      <td>3</td>\n",
       "    </tr>\n",
       "    <tr>\n",
       "      <th>1</th>\n",
       "      <td>000fe60</td>\n",
       "      <td>I am a scientist at NASA that is discussing th...</td>\n",
       "      <td>3</td>\n",
       "    </tr>\n",
       "    <tr>\n",
       "      <th>2</th>\n",
       "      <td>001ab80</td>\n",
       "      <td>People always wish they had the same technolog...</td>\n",
       "      <td>4</td>\n",
       "    </tr>\n",
       "    <tr>\n",
       "      <th>3</th>\n",
       "      <td>001bdc0</td>\n",
       "      <td>We all heard about Venus, the planet without a...</td>\n",
       "      <td>4</td>\n",
       "    </tr>\n",
       "    <tr>\n",
       "      <th>4</th>\n",
       "      <td>002ba53</td>\n",
       "      <td>Dear, State Senator\\n\\nThis is a letter to arg...</td>\n",
       "      <td>3</td>\n",
       "    </tr>\n",
       "    <tr>\n",
       "      <th>...</th>\n",
       "      <td>...</td>\n",
       "      <td>...</td>\n",
       "      <td>...</td>\n",
       "    </tr>\n",
       "    <tr>\n",
       "      <th>17302</th>\n",
       "      <td>ffd378d</td>\n",
       "      <td>the story \" The Challenge of Exploing Venus \" ...</td>\n",
       "      <td>2</td>\n",
       "    </tr>\n",
       "    <tr>\n",
       "      <th>17303</th>\n",
       "      <td>ffddf1f</td>\n",
       "      <td>Technology has changed a lot of ways that we l...</td>\n",
       "      <td>4</td>\n",
       "    </tr>\n",
       "    <tr>\n",
       "      <th>17304</th>\n",
       "      <td>fff016d</td>\n",
       "      <td>If you don't like sitting around all day than ...</td>\n",
       "      <td>2</td>\n",
       "    </tr>\n",
       "    <tr>\n",
       "      <th>17305</th>\n",
       "      <td>fffb49b</td>\n",
       "      <td>In \"The Challenge of Exporing Venus,\" the auth...</td>\n",
       "      <td>1</td>\n",
       "    </tr>\n",
       "    <tr>\n",
       "      <th>17306</th>\n",
       "      <td>fffed3e</td>\n",
       "      <td>Venus is worthy place to study but dangerous. ...</td>\n",
       "      <td>2</td>\n",
       "    </tr>\n",
       "  </tbody>\n",
       "</table>\n",
       "<p>17307 rows × 3 columns</p>\n",
       "</div>"
      ],
      "text/plain": [
       "      essay_id                                          full_text  score\n",
       "0      000d118  Many people have car where they live. The thin...      3\n",
       "1      000fe60  I am a scientist at NASA that is discussing th...      3\n",
       "2      001ab80  People always wish they had the same technolog...      4\n",
       "3      001bdc0  We all heard about Venus, the planet without a...      4\n",
       "4      002ba53  Dear, State Senator\\n\\nThis is a letter to arg...      3\n",
       "...        ...                                                ...    ...\n",
       "17302  ffd378d  the story \" The Challenge of Exploing Venus \" ...      2\n",
       "17303  ffddf1f  Technology has changed a lot of ways that we l...      4\n",
       "17304  fff016d  If you don't like sitting around all day than ...      2\n",
       "17305  fffb49b  In \"The Challenge of Exporing Venus,\" the auth...      1\n",
       "17306  fffed3e  Venus is worthy place to study but dangerous. ...      2\n",
       "\n",
       "[17307 rows x 3 columns]"
      ]
     },
     "execution_count": 4,
     "metadata": {},
     "output_type": "execute_result"
    }
   ],
   "source": [
    "train = pd.read_csv('/kaggle/input/learning-agency-lab-automated-essay-scoring-2/train.csv')\n",
    "test = pd.read_csv('/kaggle/input/learning-agency-lab-automated-essay-scoring-2/test.csv')\n",
    "sub = pd.read_csv('/kaggle/input/learning-agency-lab-automated-essay-scoring-2/sample_submission.csv')\n",
    "train"
   ]
  },
  {
   "cell_type": "code",
   "execution_count": 5,
   "id": "8ca554c0",
   "metadata": {
    "execution": {
     "iopub.execute_input": "2025-03-03T16:51:27.397701Z",
     "iopub.status.busy": "2025-03-03T16:51:27.397462Z",
     "iopub.status.idle": "2025-03-03T16:51:27.402850Z",
     "shell.execute_reply": "2025-03-03T16:51:27.402223Z"
    },
    "papermill": {
     "duration": 0.012408,
     "end_time": "2025-03-03T16:51:27.403892",
     "exception": false,
     "start_time": "2025-03-03T16:51:27.391484",
     "status": "completed"
    },
    "tags": []
   },
   "outputs": [],
   "source": [
    "num_classes = len(train['score'].unique())"
   ]
  },
  {
   "cell_type": "code",
   "execution_count": 6,
   "id": "df9349ac",
   "metadata": {
    "execution": {
     "iopub.execute_input": "2025-03-03T16:51:27.415606Z",
     "iopub.status.busy": "2025-03-03T16:51:27.415396Z",
     "iopub.status.idle": "2025-03-03T16:54:50.236837Z",
     "shell.execute_reply": "2025-03-03T16:54:50.235901Z"
    },
    "papermill": {
     "duration": 202.829256,
     "end_time": "2025-03-03T16:54:50.238666",
     "exception": false,
     "start_time": "2025-03-03T16:51:27.409410",
     "status": "completed"
    },
    "tags": []
   },
   "outputs": [
    {
     "name": "stdout",
     "output_type": "stream",
     "text": [
      "\u001b[33mWARNING: Retrying (Retry(total=4, connect=None, read=None, redirect=None, status=None)) after connection broken by 'NewConnectionError('<pip._vendor.urllib3.connection.HTTPSConnection object at 0x7cd5d0361150>: Failed to establish a new connection: [Errno -3] Temporary failure in name resolution')': /simple/sentencepiece/\u001b[0m\u001b[33m\r\n",
      "\u001b[0m\u001b[33mWARNING: Retrying (Retry(total=3, connect=None, read=None, redirect=None, status=None)) after connection broken by 'NewConnectionError('<pip._vendor.urllib3.connection.HTTPSConnection object at 0x7cd5d0361480>: Failed to establish a new connection: [Errno -3] Temporary failure in name resolution')': /simple/sentencepiece/\u001b[0m\u001b[33m\r\n",
      "\u001b[0m\u001b[33mWARNING: Retrying (Retry(total=2, connect=None, read=None, redirect=None, status=None)) after connection broken by 'NewConnectionError('<pip._vendor.urllib3.connection.HTTPSConnection object at 0x7cd5d0361720>: Failed to establish a new connection: [Errno -3] Temporary failure in name resolution')': /simple/sentencepiece/\u001b[0m\u001b[33m\r\n",
      "\u001b[0m\u001b[33mWARNING: Retrying (Retry(total=1, connect=None, read=None, redirect=None, status=None)) after connection broken by 'NewConnectionError('<pip._vendor.urllib3.connection.HTTPSConnection object at 0x7cd5d03618d0>: Failed to establish a new connection: [Errno -3] Temporary failure in name resolution')': /simple/sentencepiece/\u001b[0m\u001b[33m\r\n",
      "\u001b[0m\u001b[33mWARNING: Retrying (Retry(total=0, connect=None, read=None, redirect=None, status=None)) after connection broken by 'NewConnectionError('<pip._vendor.urllib3.connection.HTTPSConnection object at 0x7cd5d0361a80>: Failed to establish a new connection: [Errno -3] Temporary failure in name resolution')': /simple/sentencepiece/\u001b[0m\u001b[33m\r\n",
      "\u001b[0m"
     ]
    }
   ],
   "source": [
    "!pip install -U -q sentencepiece"
   ]
  },
  {
   "cell_type": "code",
   "execution_count": 7,
   "id": "3dd3a1cd",
   "metadata": {
    "execution": {
     "iopub.execute_input": "2025-03-03T16:54:50.251524Z",
     "iopub.status.busy": "2025-03-03T16:54:50.251236Z",
     "iopub.status.idle": "2025-03-03T16:54:50.319092Z",
     "shell.execute_reply": "2025-03-03T16:54:50.318208Z"
    },
    "papermill": {
     "duration": 0.075982,
     "end_time": "2025-03-03T16:54:50.320668",
     "exception": false,
     "start_time": "2025-03-03T16:54:50.244686",
     "status": "completed"
    },
    "tags": []
   },
   "outputs": [],
   "source": [
    "with open('./input.txt', 'w') as f:\n",
    "    for line in train['full_text'].values:\n",
    "        try:\n",
    "            f.write(line)\n",
    "        except:\n",
    "            print(\"write error ---> \", line)"
   ]
  },
  {
   "cell_type": "code",
   "execution_count": 8,
   "id": "c8b71a61",
   "metadata": {
    "execution": {
     "iopub.execute_input": "2025-03-03T16:54:50.332726Z",
     "iopub.status.busy": "2025-03-03T16:54:50.332474Z",
     "iopub.status.idle": "2025-03-03T16:54:50.532397Z",
     "shell.execute_reply": "2025-03-03T16:54:50.531508Z"
    },
    "papermill": {
     "duration": 0.20742,
     "end_time": "2025-03-03T16:54:50.533817",
     "exception": false,
     "start_time": "2025-03-03T16:54:50.326397",
     "status": "completed"
    },
    "tags": []
   },
   "outputs": [
    {
     "name": "stdout",
     "output_type": "stream",
     "text": [
      "137259\n",
      "Many people have car where they live. The thing they don't know is that when you use a car alot of thing can happen like you can get in accidet or the smoke that the car has is bad to breath on if someone is walk but in VAUBAN,Germany they dont have that proble because 70 percent of vauban's families do not own cars,and 57 percent sold a car to move there. Street parkig ,driveways and home garages are forbidden on the outskirts of freiburd that near the French and Swiss borders. You probaly won't see a car in Vauban's streets because they are completely \"car free\" but If some that lives in VAUBAN that owns a car ownership is allowed,but there are only two places that you can park a large garages at the edge of the development,where a car owner buys a space but it not cheap to buy one they sell the space for you car for $40,000 along with a home. The vauban people completed this in 2006 ,they said that this an example of a growing trend in Europe,The untile states and some where else are suburban life from auto use this is called \"smart planning\". The current efforts to drastically reduce greenhouse gas emissions from tailes the passengee cars are responsible for 12 percent of greenhouse gas emissions in Europe and up to 50 percent in some car intensive in the United States. I honeslty think that good idea that they did that is Vaudan because that makes cities denser and better for walking and in VAUBAN there are 5,500 residents within a rectangular square mile. In the artical David Gold berg said that \"All of our development since World war 2 has been centered on the cars,and that will have to change\" and i think that was very true what David Gold said because alot thing we need cars to do we can go anyway were with out cars beacuse some people are a very lazy to walk to place thats why they alot of people use car and i think that it was a good idea that that they did that in VAUBAN so people can see how we really don't need car to go to place from place because we can walk from were we need to go or we can ride bycles with out the use of a car. It good that they are doing that if you thik about your help the earth in way and thats a very good thing to. In the United states ,the Environmental protection Agency is promoting what is called \"car reduced\"communtunties,and the legislators are starting to act,if cautiously. Maany experts expect pubic transport serving suburbs to play a much larger role in a new six years federal transportation bill to approved this year. In previous bill,80 percent of appropriations have by law gone to highways and only 20 percent to other transports. There many good reason why they should do this.    I am a scientist at NASA that is discussing the \"face\" on mars. I will be explaining how the \"face\" is a land form. By sharing my information about this isue i will tell you just that.\n"
     ]
    }
   ],
   "source": [
    "#write 가 잘 되었는지 확인\n",
    "with open('./input.txt', 'r') as f:\n",
    "    txt = f.read().split('\\n')\n",
    "\n",
    "print(len(txt))\n",
    "print(txt[0])"
   ]
  },
  {
   "cell_type": "code",
   "execution_count": 9,
   "id": "f4242f52",
   "metadata": {
    "execution": {
     "iopub.execute_input": "2025-03-03T16:54:50.546261Z",
     "iopub.status.busy": "2025-03-03T16:54:50.545990Z",
     "iopub.status.idle": "2025-03-03T16:55:22.003641Z",
     "shell.execute_reply": "2025-03-03T16:55:22.002786Z"
    },
    "papermill": {
     "duration": 31.470921,
     "end_time": "2025-03-03T16:55:22.010747",
     "exception": false,
     "start_time": "2025-03-03T16:54:50.539826",
     "status": "completed"
    },
    "tags": []
   },
   "outputs": [
    {
     "data": {
      "text/plain": [
       "True"
      ]
     },
     "execution_count": 9,
     "metadata": {},
     "output_type": "execute_result"
    }
   ],
   "source": [
    "import sentencepiece as spm\n",
    "\n",
    "spm.SentencePieceTrainer.Train('--input=input.txt --model_prefix=spm --vocab_size=10000')\n",
    "sp = spm.SentencePieceProcessor()\n",
    "sp.Load('{}.model'.format('spm'))"
   ]
  },
  {
   "cell_type": "code",
   "execution_count": 10,
   "id": "c94115e3",
   "metadata": {
    "execution": {
     "iopub.execute_input": "2025-03-03T16:55:22.023114Z",
     "iopub.status.busy": "2025-03-03T16:55:22.022870Z",
     "iopub.status.idle": "2025-03-03T16:55:29.309914Z",
     "shell.execute_reply": "2025-03-03T16:55:29.309210Z"
    },
    "papermill": {
     "duration": 7.295006,
     "end_time": "2025-03-03T16:55:29.311563",
     "exception": false,
     "start_time": "2025-03-03T16:55:22.016557",
     "status": "completed"
    },
    "tags": []
   },
   "outputs": [],
   "source": [
    "#tokenize& sequence 화\n",
    "train_texts = [sp.encode_as_ids(t) for t in train['full_text'].values]\n",
    "test_texts = [sp.encode_as_ids(t) for t in test['full_text'].values]"
   ]
  },
  {
   "cell_type": "code",
   "execution_count": 11,
   "id": "f8f34e96",
   "metadata": {
    "execution": {
     "iopub.execute_input": "2025-03-03T16:55:29.325874Z",
     "iopub.status.busy": "2025-03-03T16:55:29.325619Z",
     "iopub.status.idle": "2025-03-03T16:55:29.783842Z",
     "shell.execute_reply": "2025-03-03T16:55:29.783122Z"
    },
    "papermill": {
     "duration": 0.466326,
     "end_time": "2025-03-03T16:55:29.785555",
     "exception": false,
     "start_time": "2025-03-03T16:55:29.319229",
     "status": "completed"
    },
    "tags": []
   },
   "outputs": [],
   "source": [
    "max_len = 700\n",
    "train_texts = pad_sequences(train_texts, maxlen = max_len, truncating = 'post', padding = 'post')\n",
    "test_texts = pad_sequences(test_texts, maxlen = max_len, truncating = 'post', padding = 'post')"
   ]
  },
  {
   "cell_type": "code",
   "execution_count": 12,
   "id": "ef2716c8",
   "metadata": {
    "execution": {
     "iopub.execute_input": "2025-03-03T16:55:29.798153Z",
     "iopub.status.busy": "2025-03-03T16:55:29.797889Z",
     "iopub.status.idle": "2025-03-03T16:55:29.801303Z",
     "shell.execute_reply": "2025-03-03T16:55:29.800629Z"
    },
    "papermill": {
     "duration": 0.010866,
     "end_time": "2025-03-03T16:55:29.802482",
     "exception": false,
     "start_time": "2025-03-03T16:55:29.791616",
     "status": "completed"
    },
    "tags": []
   },
   "outputs": [],
   "source": [
    "train_texts = pd.DataFrame(train_texts)\n",
    "test_texts = pd.DataFrame(test_texts)"
   ]
  },
  {
   "cell_type": "code",
   "execution_count": 13,
   "id": "54d31a88",
   "metadata": {
    "execution": {
     "iopub.execute_input": "2025-03-03T16:55:29.814587Z",
     "iopub.status.busy": "2025-03-03T16:55:29.814387Z",
     "iopub.status.idle": "2025-03-03T16:55:29.837689Z",
     "shell.execute_reply": "2025-03-03T16:55:29.836749Z"
    },
    "papermill": {
     "duration": 0.030868,
     "end_time": "2025-03-03T16:55:29.839093",
     "exception": false,
     "start_time": "2025-03-03T16:55:29.808225",
     "status": "completed"
    },
    "tags": []
   },
   "outputs": [
    {
     "name": "stdout",
     "output_type": "stream",
     "text": [
      "(13845, 700)\n",
      "(3462, 700)\n",
      "(13845,)\n",
      "(3462,)\n"
     ]
    }
   ],
   "source": [
    "train_x, val_x, train_y, val_y = train_test_split(train_texts, train['score'], test_size = 0.2, random_state = 42)\n",
    "\n",
    "print(train_x.shape)\n",
    "print(val_x.shape)\n",
    "print(train_y.shape)\n",
    "print(val_y.shape)"
   ]
  },
  {
   "cell_type": "code",
   "execution_count": 14,
   "id": "3dd2b761",
   "metadata": {
    "execution": {
     "iopub.execute_input": "2025-03-03T16:55:29.851725Z",
     "iopub.status.busy": "2025-03-03T16:55:29.851448Z",
     "iopub.status.idle": "2025-03-03T16:55:29.860029Z",
     "shell.execute_reply": "2025-03-03T16:55:29.859441Z"
    },
    "papermill": {
     "duration": 0.016008,
     "end_time": "2025-03-03T16:55:29.861105",
     "exception": false,
     "start_time": "2025-03-03T16:55:29.845097",
     "status": "completed"
    },
    "tags": []
   },
   "outputs": [],
   "source": [
    "from tensorflow.keras.utils import to_categorical\n",
    "\n",
    "train_y -= 1\n",
    "val_y -= 1\n",
    "\n",
    "# to_categorical 함수를 사용하여 원-핫 인코딩 적용\n",
    "train_y = to_categorical(train_y, num_classes=num_classes)\n",
    "val_y = to_categorical(val_y, num_classes=num_classes)"
   ]
  },
  {
   "cell_type": "code",
   "execution_count": 15,
   "id": "15365772",
   "metadata": {
    "execution": {
     "iopub.execute_input": "2025-03-03T16:55:29.873302Z",
     "iopub.status.busy": "2025-03-03T16:55:29.873061Z",
     "iopub.status.idle": "2025-03-03T16:55:29.878068Z",
     "shell.execute_reply": "2025-03-03T16:55:29.877459Z"
    },
    "papermill": {
     "duration": 0.012462,
     "end_time": "2025-03-03T16:55:29.879233",
     "exception": false,
     "start_time": "2025-03-03T16:55:29.866771",
     "status": "completed"
    },
    "tags": []
   },
   "outputs": [],
   "source": [
    "def make_embedding(num_words, embedding_dim, vocab_size):\n",
    "\n",
    "    embeddings_dict = {}\n",
    "    output = '/kaggle/input/glove-6b-100/glove.6B.100d.txt'\n",
    "    \n",
    "    \n",
    "    with open(output, encoding=\"utf8\") as f:\n",
    "        for i, line in enumerate(f):\n",
    "            values = line.split()            # 각 줄을 읽어와서 word_vector에 저장\n",
    "            word = values[0]                 # 첫번째 값은 word\n",
    "            # 두번째 element 부터 마지막까지 100 개는 해당 단어의 임베딩 벡터의  값\n",
    "            coefs = np.asarray(values[1:], dtype='float32')  \n",
    "            embeddings_dict[word] = coefs\n",
    "                \n",
    "    embedding_matrix = np.random.uniform(-0.25, 0.25, (num_words, embedding_dim))  # zero 로 초기화   \n",
    "    \n",
    "    print(\"word 갯수 =\", num_words)\n",
    "    print(embedding_matrix.shape)\n",
    "    \n",
    "\n",
    "    for i in range(vocab_size):  # SentencePiece 어휘집을 반복하면서\n",
    "        word = sp.id_to_piece(i)\n",
    "        embedding_vector = embeddings_dict.get(word)\n",
    "        if embedding_vector is not None:\n",
    "            embedding_matrix[i] = embedding_vector\n",
    "                    \n",
    "    return embedding_matrix"
   ]
  },
  {
   "cell_type": "code",
   "execution_count": 16,
   "id": "15744e1b",
   "metadata": {
    "execution": {
     "iopub.execute_input": "2025-03-03T16:55:29.891265Z",
     "iopub.status.busy": "2025-03-03T16:55:29.891031Z",
     "iopub.status.idle": "2025-03-03T16:55:39.087755Z",
     "shell.execute_reply": "2025-03-03T16:55:39.086792Z"
    },
    "papermill": {
     "duration": 9.204343,
     "end_time": "2025-03-03T16:55:39.089315",
     "exception": false,
     "start_time": "2025-03-03T16:55:29.884972",
     "status": "completed"
    },
    "tags": []
   },
   "outputs": [
    {
     "name": "stdout",
     "output_type": "stream",
     "text": [
      "word 갯수 = 10001\n",
      "(10001, 100)\n",
      "(10001, 100) <class 'numpy.ndarray'>\n"
     ]
    }
   ],
   "source": [
    "vocab_size = 10000\n",
    "EMBEDDING_DIM = 100\n",
    "# create embedding matrix\n",
    "embedding_matrix = make_embedding(vocab_size+1, EMBEDDING_DIM, \n",
    "                                vocab_size)\n",
    "print(embedding_matrix.shape, type(embedding_matrix))"
   ]
  },
  {
   "cell_type": "code",
   "execution_count": 17,
   "id": "3e469c93",
   "metadata": {
    "execution": {
     "iopub.execute_input": "2025-03-03T16:55:39.102799Z",
     "iopub.status.busy": "2025-03-03T16:55:39.102550Z",
     "iopub.status.idle": "2025-03-03T16:55:41.394669Z",
     "shell.execute_reply": "2025-03-03T16:55:41.394001Z"
    },
    "papermill": {
     "duration": 2.300157,
     "end_time": "2025-03-03T16:55:41.395925",
     "exception": false,
     "start_time": "2025-03-03T16:55:39.095768",
     "status": "completed"
    },
    "tags": []
   },
   "outputs": [
    {
     "data": {
      "text/html": [
       "<pre style=\"white-space:pre;overflow-x:auto;line-height:normal;font-family:Menlo,'DejaVu Sans Mono',consolas,'Courier New',monospace\"><span style=\"font-weight: bold\">Model: \"functional\"</span>\n",
       "</pre>\n"
      ],
      "text/plain": [
       "\u001b[1mModel: \"functional\"\u001b[0m\n"
      ]
     },
     "metadata": {},
     "output_type": "display_data"
    },
    {
     "data": {
      "text/html": [
       "<pre style=\"white-space:pre;overflow-x:auto;line-height:normal;font-family:Menlo,'DejaVu Sans Mono',consolas,'Courier New',monospace\">┏━━━━━━━━━━━━━━━━━━━━━━━━━━━┳━━━━━━━━━━━━━━━━━━━━━━━━┳━━━━━━━━━━━━━━━━┳━━━━━━━━━━━━━━━━━━━━━━━━┓\n",
       "┃<span style=\"font-weight: bold\"> Layer (type)              </span>┃<span style=\"font-weight: bold\"> Output Shape           </span>┃<span style=\"font-weight: bold\">        Param # </span>┃<span style=\"font-weight: bold\"> Connected to           </span>┃\n",
       "┡━━━━━━━━━━━━━━━━━━━━━━━━━━━╇━━━━━━━━━━━━━━━━━━━━━━━━╇━━━━━━━━━━━━━━━━╇━━━━━━━━━━━━━━━━━━━━━━━━┩\n",
       "│ input_layer (<span style=\"color: #0087ff; text-decoration-color: #0087ff\">InputLayer</span>)  │ (<span style=\"color: #00d7ff; text-decoration-color: #00d7ff\">None</span>, <span style=\"color: #00af00; text-decoration-color: #00af00\">700</span>)            │              <span style=\"color: #00af00; text-decoration-color: #00af00\">0</span> │ -                      │\n",
       "├───────────────────────────┼────────────────────────┼────────────────┼────────────────────────┤\n",
       "│ embedding (<span style=\"color: #0087ff; text-decoration-color: #0087ff\">Embedding</span>)     │ (<span style=\"color: #00d7ff; text-decoration-color: #00d7ff\">None</span>, <span style=\"color: #00af00; text-decoration-color: #00af00\">700</span>, <span style=\"color: #00af00; text-decoration-color: #00af00\">100</span>)       │      <span style=\"color: #00af00; text-decoration-color: #00af00\">1,000,100</span> │ input_layer[<span style=\"color: #00af00; text-decoration-color: #00af00\">0</span>][<span style=\"color: #00af00; text-decoration-color: #00af00\">0</span>]      │\n",
       "├───────────────────────────┼────────────────────────┼────────────────┼────────────────────────┤\n",
       "│ multi_head_attention      │ (<span style=\"color: #00d7ff; text-decoration-color: #00d7ff\">None</span>, <span style=\"color: #00af00; text-decoration-color: #00af00\">700</span>, <span style=\"color: #00af00; text-decoration-color: #00af00\">100</span>)       │         <span style=\"color: #00af00; text-decoration-color: #00af00\">80,700</span> │ embedding[<span style=\"color: #00af00; text-decoration-color: #00af00\">0</span>][<span style=\"color: #00af00; text-decoration-color: #00af00\">0</span>],       │\n",
       "│ (<span style=\"color: #0087ff; text-decoration-color: #0087ff\">MultiHeadAttention</span>)      │                        │                │ embedding[<span style=\"color: #00af00; text-decoration-color: #00af00\">0</span>][<span style=\"color: #00af00; text-decoration-color: #00af00\">0</span>]        │\n",
       "├───────────────────────────┼────────────────────────┼────────────────┼────────────────────────┤\n",
       "│ layer_normalization       │ (<span style=\"color: #00d7ff; text-decoration-color: #00d7ff\">None</span>, <span style=\"color: #00af00; text-decoration-color: #00af00\">700</span>, <span style=\"color: #00af00; text-decoration-color: #00af00\">100</span>)       │            <span style=\"color: #00af00; text-decoration-color: #00af00\">200</span> │ multi_head_attention[<span style=\"color: #00af00; text-decoration-color: #00af00\">…</span> │\n",
       "│ (<span style=\"color: #0087ff; text-decoration-color: #0087ff\">LayerNormalization</span>)      │                        │                │                        │\n",
       "├───────────────────────────┼────────────────────────┼────────────────┼────────────────────────┤\n",
       "│ global_average_pooling1d  │ (<span style=\"color: #00d7ff; text-decoration-color: #00d7ff\">None</span>, <span style=\"color: #00af00; text-decoration-color: #00af00\">100</span>)            │              <span style=\"color: #00af00; text-decoration-color: #00af00\">0</span> │ layer_normalization[<span style=\"color: #00af00; text-decoration-color: #00af00\">0</span>… │\n",
       "│ (<span style=\"color: #0087ff; text-decoration-color: #0087ff\">GlobalAveragePooling1D</span>)  │                        │                │                        │\n",
       "├───────────────────────────┼────────────────────────┼────────────────┼────────────────────────┤\n",
       "│ dropout_1 (<span style=\"color: #0087ff; text-decoration-color: #0087ff\">Dropout</span>)       │ (<span style=\"color: #00d7ff; text-decoration-color: #00d7ff\">None</span>, <span style=\"color: #00af00; text-decoration-color: #00af00\">100</span>)            │              <span style=\"color: #00af00; text-decoration-color: #00af00\">0</span> │ global_average_poolin… │\n",
       "├───────────────────────────┼────────────────────────┼────────────────┼────────────────────────┤\n",
       "│ dense (<span style=\"color: #0087ff; text-decoration-color: #0087ff\">Dense</span>)             │ (<span style=\"color: #00d7ff; text-decoration-color: #00d7ff\">None</span>, <span style=\"color: #00af00; text-decoration-color: #00af00\">64</span>)             │          <span style=\"color: #00af00; text-decoration-color: #00af00\">6,464</span> │ dropout_1[<span style=\"color: #00af00; text-decoration-color: #00af00\">0</span>][<span style=\"color: #00af00; text-decoration-color: #00af00\">0</span>]        │\n",
       "├───────────────────────────┼────────────────────────┼────────────────┼────────────────────────┤\n",
       "│ dense_1 (<span style=\"color: #0087ff; text-decoration-color: #0087ff\">Dense</span>)           │ (<span style=\"color: #00d7ff; text-decoration-color: #00d7ff\">None</span>, <span style=\"color: #00af00; text-decoration-color: #00af00\">6</span>)              │            <span style=\"color: #00af00; text-decoration-color: #00af00\">390</span> │ dense[<span style=\"color: #00af00; text-decoration-color: #00af00\">0</span>][<span style=\"color: #00af00; text-decoration-color: #00af00\">0</span>]            │\n",
       "└───────────────────────────┴────────────────────────┴────────────────┴────────────────────────┘\n",
       "</pre>\n"
      ],
      "text/plain": [
       "┏━━━━━━━━━━━━━━━━━━━━━━━━━━━┳━━━━━━━━━━━━━━━━━━━━━━━━┳━━━━━━━━━━━━━━━━┳━━━━━━━━━━━━━━━━━━━━━━━━┓\n",
       "┃\u001b[1m \u001b[0m\u001b[1mLayer (type)             \u001b[0m\u001b[1m \u001b[0m┃\u001b[1m \u001b[0m\u001b[1mOutput Shape          \u001b[0m\u001b[1m \u001b[0m┃\u001b[1m \u001b[0m\u001b[1m       Param #\u001b[0m\u001b[1m \u001b[0m┃\u001b[1m \u001b[0m\u001b[1mConnected to          \u001b[0m\u001b[1m \u001b[0m┃\n",
       "┡━━━━━━━━━━━━━━━━━━━━━━━━━━━╇━━━━━━━━━━━━━━━━━━━━━━━━╇━━━━━━━━━━━━━━━━╇━━━━━━━━━━━━━━━━━━━━━━━━┩\n",
       "│ input_layer (\u001b[38;5;33mInputLayer\u001b[0m)  │ (\u001b[38;5;45mNone\u001b[0m, \u001b[38;5;34m700\u001b[0m)            │              \u001b[38;5;34m0\u001b[0m │ -                      │\n",
       "├───────────────────────────┼────────────────────────┼────────────────┼────────────────────────┤\n",
       "│ embedding (\u001b[38;5;33mEmbedding\u001b[0m)     │ (\u001b[38;5;45mNone\u001b[0m, \u001b[38;5;34m700\u001b[0m, \u001b[38;5;34m100\u001b[0m)       │      \u001b[38;5;34m1,000,100\u001b[0m │ input_layer[\u001b[38;5;34m0\u001b[0m][\u001b[38;5;34m0\u001b[0m]      │\n",
       "├───────────────────────────┼────────────────────────┼────────────────┼────────────────────────┤\n",
       "│ multi_head_attention      │ (\u001b[38;5;45mNone\u001b[0m, \u001b[38;5;34m700\u001b[0m, \u001b[38;5;34m100\u001b[0m)       │         \u001b[38;5;34m80,700\u001b[0m │ embedding[\u001b[38;5;34m0\u001b[0m][\u001b[38;5;34m0\u001b[0m],       │\n",
       "│ (\u001b[38;5;33mMultiHeadAttention\u001b[0m)      │                        │                │ embedding[\u001b[38;5;34m0\u001b[0m][\u001b[38;5;34m0\u001b[0m]        │\n",
       "├───────────────────────────┼────────────────────────┼────────────────┼────────────────────────┤\n",
       "│ layer_normalization       │ (\u001b[38;5;45mNone\u001b[0m, \u001b[38;5;34m700\u001b[0m, \u001b[38;5;34m100\u001b[0m)       │            \u001b[38;5;34m200\u001b[0m │ multi_head_attention[\u001b[38;5;34m…\u001b[0m │\n",
       "│ (\u001b[38;5;33mLayerNormalization\u001b[0m)      │                        │                │                        │\n",
       "├───────────────────────────┼────────────────────────┼────────────────┼────────────────────────┤\n",
       "│ global_average_pooling1d  │ (\u001b[38;5;45mNone\u001b[0m, \u001b[38;5;34m100\u001b[0m)            │              \u001b[38;5;34m0\u001b[0m │ layer_normalization[\u001b[38;5;34m0\u001b[0m… │\n",
       "│ (\u001b[38;5;33mGlobalAveragePooling1D\u001b[0m)  │                        │                │                        │\n",
       "├───────────────────────────┼────────────────────────┼────────────────┼────────────────────────┤\n",
       "│ dropout_1 (\u001b[38;5;33mDropout\u001b[0m)       │ (\u001b[38;5;45mNone\u001b[0m, \u001b[38;5;34m100\u001b[0m)            │              \u001b[38;5;34m0\u001b[0m │ global_average_poolin… │\n",
       "├───────────────────────────┼────────────────────────┼────────────────┼────────────────────────┤\n",
       "│ dense (\u001b[38;5;33mDense\u001b[0m)             │ (\u001b[38;5;45mNone\u001b[0m, \u001b[38;5;34m64\u001b[0m)             │          \u001b[38;5;34m6,464\u001b[0m │ dropout_1[\u001b[38;5;34m0\u001b[0m][\u001b[38;5;34m0\u001b[0m]        │\n",
       "├───────────────────────────┼────────────────────────┼────────────────┼────────────────────────┤\n",
       "│ dense_1 (\u001b[38;5;33mDense\u001b[0m)           │ (\u001b[38;5;45mNone\u001b[0m, \u001b[38;5;34m6\u001b[0m)              │            \u001b[38;5;34m390\u001b[0m │ dense[\u001b[38;5;34m0\u001b[0m][\u001b[38;5;34m0\u001b[0m]            │\n",
       "└───────────────────────────┴────────────────────────┴────────────────┴────────────────────────┘\n"
      ]
     },
     "metadata": {},
     "output_type": "display_data"
    },
    {
     "data": {
      "text/html": [
       "<pre style=\"white-space:pre;overflow-x:auto;line-height:normal;font-family:Menlo,'DejaVu Sans Mono',consolas,'Courier New',monospace\"><span style=\"font-weight: bold\"> Total params: </span><span style=\"color: #00af00; text-decoration-color: #00af00\">1,087,854</span> (4.15 MB)\n",
       "</pre>\n"
      ],
      "text/plain": [
       "\u001b[1m Total params: \u001b[0m\u001b[38;5;34m1,087,854\u001b[0m (4.15 MB)\n"
      ]
     },
     "metadata": {},
     "output_type": "display_data"
    },
    {
     "data": {
      "text/html": [
       "<pre style=\"white-space:pre;overflow-x:auto;line-height:normal;font-family:Menlo,'DejaVu Sans Mono',consolas,'Courier New',monospace\"><span style=\"font-weight: bold\"> Trainable params: </span><span style=\"color: #00af00; text-decoration-color: #00af00\">1,087,854</span> (4.15 MB)\n",
       "</pre>\n"
      ],
      "text/plain": [
       "\u001b[1m Trainable params: \u001b[0m\u001b[38;5;34m1,087,854\u001b[0m (4.15 MB)\n"
      ]
     },
     "metadata": {},
     "output_type": "display_data"
    },
    {
     "data": {
      "text/html": [
       "<pre style=\"white-space:pre;overflow-x:auto;line-height:normal;font-family:Menlo,'DejaVu Sans Mono',consolas,'Courier New',monospace\"><span style=\"font-weight: bold\"> Non-trainable params: </span><span style=\"color: #00af00; text-decoration-color: #00af00\">0</span> (0.00 B)\n",
       "</pre>\n"
      ],
      "text/plain": [
       "\u001b[1m Non-trainable params: \u001b[0m\u001b[38;5;34m0\u001b[0m (0.00 B)\n"
      ]
     },
     "metadata": {},
     "output_type": "display_data"
    }
   ],
   "source": [
    "import tensorflow as tf\n",
    "\n",
    "inputs = tf.keras.layers.Input(shape=(max_len,))\n",
    "\n",
    "embedding_layer = tf.keras.layers.Embedding(input_dim=vocab_size+1, output_dim=EMBEDDING_DIM)\n",
    "embedding_layer.build((None,))\n",
    "embedding_layer.set_weights([embedding_matrix])\n",
    "embedding_output = embedding_layer(inputs)\n",
    "\n",
    "# Transformer encoder layer\n",
    "transformer_encoder_layer = tf.keras.layers.MultiHeadAttention(num_heads=2, key_dim=EMBEDDING_DIM, dropout=0.2)\n",
    "transformer_output = transformer_encoder_layer(embedding_output, embedding_output, attention_mask=None, return_attention_scores=False)\n",
    "normalization_layer = tf.keras.layers.LayerNormalization()(transformer_output)\n",
    "\n",
    "pooling_output = tf.keras.layers.GlobalAveragePooling1D()(normalization_layer)\n",
    "\n",
    "dropout_output = tf.keras.layers.Dropout(0.2)(pooling_output)\n",
    "\n",
    "dense_output = tf.keras.layers.Dense(64, activation='relu')(dropout_output)\n",
    "\n",
    "final_output = tf.keras.layers.Dense(num_classes, activation='softmax')(dense_output)\n",
    "\n",
    "model = tf.keras.models.Model(inputs=inputs, outputs=final_output)\n",
    "\n",
    "model.compile(loss='categorical_crossentropy',\n",
    "              optimizer=tf.keras.optimizers.Adam(0.0001),\n",
    "              metrics=['accuracy'])\n",
    "\n",
    "model.summary()"
   ]
  },
  {
   "cell_type": "code",
   "execution_count": 18,
   "id": "a8da800b",
   "metadata": {
    "execution": {
     "iopub.execute_input": "2025-03-03T16:55:41.409830Z",
     "iopub.status.busy": "2025-03-03T16:55:41.409590Z",
     "iopub.status.idle": "2025-03-03T16:59:13.561198Z",
     "shell.execute_reply": "2025-03-03T16:59:13.560381Z"
    },
    "papermill": {
     "duration": 212.159834,
     "end_time": "2025-03-03T16:59:13.562568",
     "exception": false,
     "start_time": "2025-03-03T16:55:41.402734",
     "status": "completed"
    },
    "tags": []
   },
   "outputs": [
    {
     "name": "stdout",
     "output_type": "stream",
     "text": [
      "Epoch 1/30\n",
      "\u001b[1m55/55\u001b[0m \u001b[32m━━━━━━━━━━━━━━━━━━━━\u001b[0m\u001b[37m\u001b[0m \u001b[1m19s\u001b[0m 212ms/step - accuracy: 0.3828 - loss: 1.4063 - val_accuracy: 0.5526 - val_loss: 1.1254\n",
      "Epoch 2/30\n",
      "\u001b[1m55/55\u001b[0m \u001b[32m━━━━━━━━━━━━━━━━━━━━\u001b[0m\u001b[37m\u001b[0m \u001b[1m7s\u001b[0m 121ms/step - accuracy: 0.5240 - loss: 1.1285 - val_accuracy: 0.5552 - val_loss: 1.0788\n",
      "Epoch 3/30\n",
      "\u001b[1m55/55\u001b[0m \u001b[32m━━━━━━━━━━━━━━━━━━━━\u001b[0m\u001b[37m\u001b[0m \u001b[1m7s\u001b[0m 120ms/step - accuracy: 0.5361 - loss: 1.1006 - val_accuracy: 0.5618 - val_loss: 1.0630\n",
      "Epoch 4/30\n",
      "\u001b[1m55/55\u001b[0m \u001b[32m━━━━━━━━━━━━━━━━━━━━\u001b[0m\u001b[37m\u001b[0m \u001b[1m7s\u001b[0m 121ms/step - accuracy: 0.5547 - loss: 1.0636 - val_accuracy: 0.5615 - val_loss: 1.0444\n",
      "Epoch 5/30\n",
      "\u001b[1m55/55\u001b[0m \u001b[32m━━━━━━━━━━━━━━━━━━━━\u001b[0m\u001b[37m\u001b[0m \u001b[1m7s\u001b[0m 120ms/step - accuracy: 0.5632 - loss: 1.0421 - val_accuracy: 0.5748 - val_loss: 1.0307\n",
      "Epoch 6/30\n",
      "\u001b[1m55/55\u001b[0m \u001b[32m━━━━━━━━━━━━━━━━━━━━\u001b[0m\u001b[37m\u001b[0m \u001b[1m7s\u001b[0m 121ms/step - accuracy: 0.5657 - loss: 1.0328 - val_accuracy: 0.5771 - val_loss: 1.0194\n",
      "Epoch 7/30\n",
      "\u001b[1m55/55\u001b[0m \u001b[32m━━━━━━━━━━━━━━━━━━━━\u001b[0m\u001b[37m\u001b[0m \u001b[1m7s\u001b[0m 120ms/step - accuracy: 0.5674 - loss: 1.0182 - val_accuracy: 0.5832 - val_loss: 0.9937\n",
      "Epoch 8/30\n",
      "\u001b[1m55/55\u001b[0m \u001b[32m━━━━━━━━━━━━━━━━━━━━\u001b[0m\u001b[37m\u001b[0m \u001b[1m7s\u001b[0m 121ms/step - accuracy: 0.5755 - loss: 0.9971 - val_accuracy: 0.5832 - val_loss: 0.9787\n",
      "Epoch 9/30\n",
      "\u001b[1m55/55\u001b[0m \u001b[32m━━━━━━━━━━━━━━━━━━━━\u001b[0m\u001b[37m\u001b[0m \u001b[1m7s\u001b[0m 120ms/step - accuracy: 0.5799 - loss: 0.9781 - val_accuracy: 0.5826 - val_loss: 0.9634\n",
      "Epoch 10/30\n",
      "\u001b[1m55/55\u001b[0m \u001b[32m━━━━━━━━━━━━━━━━━━━━\u001b[0m\u001b[37m\u001b[0m \u001b[1m7s\u001b[0m 120ms/step - accuracy: 0.5946 - loss: 0.9521 - val_accuracy: 0.5890 - val_loss: 0.9445\n",
      "Epoch 11/30\n",
      "\u001b[1m55/55\u001b[0m \u001b[32m━━━━━━━━━━━━━━━━━━━━\u001b[0m\u001b[37m\u001b[0m \u001b[1m7s\u001b[0m 120ms/step - accuracy: 0.5980 - loss: 0.9249 - val_accuracy: 0.5904 - val_loss: 0.9404\n",
      "Epoch 12/30\n",
      "\u001b[1m55/55\u001b[0m \u001b[32m━━━━━━━━━━━━━━━━━━━━\u001b[0m\u001b[37m\u001b[0m \u001b[1m7s\u001b[0m 120ms/step - accuracy: 0.5996 - loss: 0.9156 - val_accuracy: 0.5976 - val_loss: 0.9186\n",
      "Epoch 13/30\n",
      "\u001b[1m55/55\u001b[0m \u001b[32m━━━━━━━━━━━━━━━━━━━━\u001b[0m\u001b[37m\u001b[0m \u001b[1m7s\u001b[0m 120ms/step - accuracy: 0.5945 - loss: 0.9178 - val_accuracy: 0.6080 - val_loss: 0.8995\n",
      "Epoch 14/30\n",
      "\u001b[1m55/55\u001b[0m \u001b[32m━━━━━━━━━━━━━━━━━━━━\u001b[0m\u001b[37m\u001b[0m \u001b[1m7s\u001b[0m 120ms/step - accuracy: 0.6134 - loss: 0.8737 - val_accuracy: 0.6089 - val_loss: 0.9020\n",
      "Epoch 15/30\n",
      "\u001b[1m55/55\u001b[0m \u001b[32m━━━━━━━━━━━━━━━━━━━━\u001b[0m\u001b[37m\u001b[0m \u001b[1m7s\u001b[0m 120ms/step - accuracy: 0.6219 - loss: 0.8672 - val_accuracy: 0.6077 - val_loss: 0.8997\n",
      "Epoch 16/30\n",
      "\u001b[1m55/55\u001b[0m \u001b[32m━━━━━━━━━━━━━━━━━━━━\u001b[0m\u001b[37m\u001b[0m \u001b[1m7s\u001b[0m 120ms/step - accuracy: 0.6182 - loss: 0.8697 - val_accuracy: 0.6245 - val_loss: 0.8686\n",
      "Epoch 17/30\n",
      "\u001b[1m55/55\u001b[0m \u001b[32m━━━━━━━━━━━━━━━━━━━━\u001b[0m\u001b[37m\u001b[0m \u001b[1m7s\u001b[0m 121ms/step - accuracy: 0.6316 - loss: 0.8521 - val_accuracy: 0.6219 - val_loss: 0.8724\n",
      "Epoch 18/30\n",
      "\u001b[1m55/55\u001b[0m \u001b[32m━━━━━━━━━━━━━━━━━━━━\u001b[0m\u001b[37m\u001b[0m \u001b[1m7s\u001b[0m 121ms/step - accuracy: 0.6388 - loss: 0.8281 - val_accuracy: 0.6231 - val_loss: 0.8633\n",
      "Epoch 19/30\n",
      "\u001b[1m55/55\u001b[0m \u001b[32m━━━━━━━━━━━━━━━━━━━━\u001b[0m\u001b[37m\u001b[0m \u001b[1m7s\u001b[0m 120ms/step - accuracy: 0.6338 - loss: 0.8365 - val_accuracy: 0.6170 - val_loss: 0.8753\n",
      "Epoch 20/30\n",
      "\u001b[1m55/55\u001b[0m \u001b[32m━━━━━━━━━━━━━━━━━━━━\u001b[0m\u001b[37m\u001b[0m \u001b[1m7s\u001b[0m 121ms/step - accuracy: 0.6452 - loss: 0.8173 - val_accuracy: 0.6262 - val_loss: 0.8533\n",
      "Epoch 21/30\n",
      "\u001b[1m55/55\u001b[0m \u001b[32m━━━━━━━━━━━━━━━━━━━━\u001b[0m\u001b[37m\u001b[0m \u001b[1m7s\u001b[0m 120ms/step - accuracy: 0.6435 - loss: 0.8266 - val_accuracy: 0.6280 - val_loss: 0.8510\n",
      "Epoch 22/30\n",
      "\u001b[1m55/55\u001b[0m \u001b[32m━━━━━━━━━━━━━━━━━━━━\u001b[0m\u001b[37m\u001b[0m \u001b[1m7s\u001b[0m 121ms/step - accuracy: 0.6492 - loss: 0.8061 - val_accuracy: 0.6297 - val_loss: 0.8577\n",
      "Epoch 23/30\n",
      "\u001b[1m55/55\u001b[0m \u001b[32m━━━━━━━━━━━━━━━━━━━━\u001b[0m\u001b[37m\u001b[0m \u001b[1m7s\u001b[0m 120ms/step - accuracy: 0.6492 - loss: 0.7998 - val_accuracy: 0.6346 - val_loss: 0.8464\n",
      "Epoch 24/30\n",
      "\u001b[1m55/55\u001b[0m \u001b[32m━━━━━━━━━━━━━━━━━━━━\u001b[0m\u001b[37m\u001b[0m \u001b[1m7s\u001b[0m 121ms/step - accuracy: 0.6623 - loss: 0.7836 - val_accuracy: 0.6280 - val_loss: 0.8469\n",
      "Epoch 25/30\n",
      "\u001b[1m55/55\u001b[0m \u001b[32m━━━━━━━━━━━━━━━━━━━━\u001b[0m\u001b[37m\u001b[0m \u001b[1m7s\u001b[0m 120ms/step - accuracy: 0.6605 - loss: 0.7849 - val_accuracy: 0.6352 - val_loss: 0.8400\n",
      "Epoch 26/30\n",
      "\u001b[1m55/55\u001b[0m \u001b[32m━━━━━━━━━━━━━━━━━━━━\u001b[0m\u001b[37m\u001b[0m \u001b[1m7s\u001b[0m 121ms/step - accuracy: 0.6714 - loss: 0.7670 - val_accuracy: 0.6280 - val_loss: 0.8497\n",
      "Epoch 27/30\n",
      "\u001b[1m55/55\u001b[0m \u001b[32m━━━━━━━━━━━━━━━━━━━━\u001b[0m\u001b[37m\u001b[0m \u001b[1m7s\u001b[0m 120ms/step - accuracy: 0.6669 - loss: 0.7616 - val_accuracy: 0.6369 - val_loss: 0.8398\n",
      "Epoch 28/30\n",
      "\u001b[1m55/55\u001b[0m \u001b[32m━━━━━━━━━━━━━━━━━━━━\u001b[0m\u001b[37m\u001b[0m \u001b[1m7s\u001b[0m 120ms/step - accuracy: 0.6637 - loss: 0.7701 - val_accuracy: 0.6366 - val_loss: 0.8432\n",
      "Epoch 29/30\n",
      "\u001b[1m55/55\u001b[0m \u001b[32m━━━━━━━━━━━━━━━━━━━━\u001b[0m\u001b[37m\u001b[0m \u001b[1m7s\u001b[0m 120ms/step - accuracy: 0.6746 - loss: 0.7519 - val_accuracy: 0.6401 - val_loss: 0.8424\n",
      "Epoch 30/30\n",
      "\u001b[1m55/55\u001b[0m \u001b[32m━━━━━━━━━━━━━━━━━━━━\u001b[0m\u001b[37m\u001b[0m \u001b[1m7s\u001b[0m 121ms/step - accuracy: 0.6793 - loss: 0.7445 - val_accuracy: 0.6332 - val_loss: 0.8438\n",
      "CPU times: user 3min 32s, sys: 1.93 s, total: 3min 34s\n",
      "Wall time: 3min 32s\n"
     ]
    }
   ],
   "source": [
    "%%time\n",
    "num_epochs = 30\n",
    "history = model.fit(train_x, train_y, epochs=num_epochs, batch_size=256,\n",
    "                validation_data=(val_x, val_y), verbose=1)"
   ]
  },
  {
   "cell_type": "code",
   "execution_count": 19,
   "id": "b3707ff1",
   "metadata": {
    "execution": {
     "iopub.execute_input": "2025-03-03T16:59:13.769529Z",
     "iopub.status.busy": "2025-03-03T16:59:13.769215Z",
     "iopub.status.idle": "2025-03-03T16:59:14.150004Z",
     "shell.execute_reply": "2025-03-03T16:59:14.149194Z"
    },
    "papermill": {
     "duration": 0.464245,
     "end_time": "2025-03-03T16:59:14.151470",
     "exception": false,
     "start_time": "2025-03-03T16:59:13.687225",
     "status": "completed"
    },
    "tags": []
   },
   "outputs": [
    {
     "data": {
      "image/png": "[encoded data removed]",
      "text/plain": [
       "<Figure size 1200x400 with 2 Axes>"
      ]
     },
     "metadata": {},
     "output_type": "display_data"
    }
   ],
   "source": [
    "fig, (ax1, ax2) = plt.subplots(1, 2, figsize=(12, 4)) #ax1, ax2 두개의 축\n",
    "\n",
    "ax1.plot(history.history['accuracy'], label = 'accuracy')\n",
    "ax1.plot(history.history['val_accuracy'], label = 'val_accuracy')\n",
    "ax1.set_xlabel('Epochs')\n",
    "ax1.set_ylabel('accuracy')\n",
    "ax1.legend(['accuarcy', 'val_accuracy'])\n",
    "\n",
    "ax2.plot(history.history['loss'])\n",
    "ax2.plot(history.history['val_loss'])\n",
    "ax2.set_xlabel('Epochs')\n",
    "ax2.set_ylabel('loss')\n",
    "ax2.legend(['loss', 'val_loss'])\n",
    "plt.show()"
   ]
  },
  {
   "cell_type": "code",
   "execution_count": 20,
   "id": "2855de8a",
   "metadata": {
    "execution": {
     "iopub.execute_input": "2025-03-03T16:59:14.319328Z",
     "iopub.status.busy": "2025-03-03T16:59:14.319011Z",
     "iopub.status.idle": "2025-03-03T16:59:15.027236Z",
     "shell.execute_reply": "2025-03-03T16:59:15.026334Z"
    },
    "papermill": {
     "duration": 0.79336,
     "end_time": "2025-03-03T16:59:15.028609",
     "exception": false,
     "start_time": "2025-03-03T16:59:14.235249",
     "status": "completed"
    },
    "tags": []
   },
   "outputs": [
    {
     "name": "stdout",
     "output_type": "stream",
     "text": [
      "\u001b[1m1/1\u001b[0m \u001b[32m━━━━━━━━━━━━━━━━━━━━\u001b[0m\u001b[37m\u001b[0m \u001b[1m1s\u001b[0m 658ms/step\n",
      "[[4.1115844e-01 4.1930750e-01 1.5893710e-01 9.8578110e-03 4.8213804e-04\n",
      "  2.5700888e-04]\n",
      " [8.1220567e-03 2.6510176e-01 7.0877928e-01 1.7725987e-02 1.5327116e-04\n",
      "  1.1773144e-04]\n",
      " [8.2537284e-05 9.4133388e-04 7.3388942e-02 7.3896044e-01 1.7236866e-01\n",
      "  1.4258054e-02]]\n",
      "[1 2 3]\n"
     ]
    }
   ],
   "source": [
    "result = model.predict(test_texts)\n",
    "print(result)\n",
    "print(result.argmax(1))"
   ]
  },
  {
   "cell_type": "code",
   "execution_count": 21,
   "id": "5a166c73",
   "metadata": {
    "execution": {
     "iopub.execute_input": "2025-03-03T16:59:15.197670Z",
     "iopub.status.busy": "2025-03-03T16:59:15.197351Z",
     "iopub.status.idle": "2025-03-03T16:59:15.201688Z",
     "shell.execute_reply": "2025-03-03T16:59:15.200964Z"
    },
    "papermill": {
     "duration": 0.089027,
     "end_time": "2025-03-03T16:59:15.203023",
     "exception": false,
     "start_time": "2025-03-03T16:59:15.113996",
     "status": "completed"
    },
    "tags": []
   },
   "outputs": [],
   "source": [
    "sub['score'] = result.argmax(1)\n",
    "sub['score'] += 1"
   ]
  },
  {
   "cell_type": "code",
   "execution_count": 22,
   "id": "8e5a4194",
   "metadata": {
    "execution": {
     "iopub.execute_input": "2025-03-03T16:59:15.371075Z",
     "iopub.status.busy": "2025-03-03T16:59:15.370767Z",
     "iopub.status.idle": "2025-03-03T16:59:15.378061Z",
     "shell.execute_reply": "2025-03-03T16:59:15.377218Z"
    },
    "papermill": {
     "duration": 0.092573,
     "end_time": "2025-03-03T16:59:15.379479",
     "exception": false,
     "start_time": "2025-03-03T16:59:15.286906",
     "status": "completed"
    },
    "tags": []
   },
   "outputs": [
    {
     "data": {
      "text/html": [
       "<div>\n",
       "<style scoped>\n",
       "    .dataframe tbody tr th:only-of-type {\n",
       "        vertical-align: middle;\n",
       "    }\n",
       "\n",
       "    .dataframe tbody tr th {\n",
       "        vertical-align: top;\n",
       "    }\n",
       "\n",
       "    .dataframe thead th {\n",
       "        text-align: right;\n",
       "    }\n",
       "</style>\n",
       "<table border=\"1\" class=\"dataframe\">\n",
       "  <thead>\n",
       "    <tr style=\"text-align: right;\">\n",
       "      <th></th>\n",
       "      <th>essay_id</th>\n",
       "      <th>score</th>\n",
       "    </tr>\n",
       "  </thead>\n",
       "  <tbody>\n",
       "    <tr>\n",
       "      <th>0</th>\n",
       "      <td>000d118</td>\n",
       "      <td>2</td>\n",
       "    </tr>\n",
       "    <tr>\n",
       "      <th>1</th>\n",
       "      <td>000fe60</td>\n",
       "      <td>3</td>\n",
       "    </tr>\n",
       "    <tr>\n",
       "      <th>2</th>\n",
       "      <td>001ab80</td>\n",
       "      <td>4</td>\n",
       "    </tr>\n",
       "  </tbody>\n",
       "</table>\n",
       "</div>"
      ],
      "text/plain": [
       "  essay_id  score\n",
       "0  000d118      2\n",
       "1  000fe60      3\n",
       "2  001ab80      4"
      ]
     },
     "execution_count": 22,
     "metadata": {},
     "output_type": "execute_result"
    }
   ],
   "source": [
    "sub"
   ]
  },
  {
   "cell_type": "code",
   "execution_count": null,
   "id": "d0a8c42b",
   "metadata": {
    "papermill": {
     "duration": 0.082036,
     "end_time": "2025-03-03T16:59:15.544522",
     "exception": false,
     "start_time": "2025-03-03T16:59:15.462486",
     "status": "completed"
    },
    "tags": []
   },
   "outputs": [],
   "source": []
  },
  {
   "cell_type": "code",
   "execution_count": null,
   "id": "5b002dcc",
   "metadata": {
    "papermill": {
     "duration": 0.081682,
     "end_time": "2025-03-03T16:59:15.709571",
     "exception": false,
     "start_time": "2025-03-03T16:59:15.627889",
     "status": "completed"
    },
    "tags": []
   },
   "outputs": [],
   "source": []
  },
  {
   "cell_type": "code",
   "execution_count": null,
   "id": "e2be1e09",
   "metadata": {
    "papermill": {
     "duration": 0.082001,
     "end_time": "2025-03-03T16:59:15.872832",
     "exception": false,
     "start_time": "2025-03-03T16:59:15.790831",
     "status": "completed"
    },
    "tags": []
   },
   "outputs": [],
   "source": []
  },
  {
   "cell_type": "code",
   "execution_count": null,
   "id": "12f25a66",
   "metadata": {
    "papermill": {
     "duration": 0.082123,
     "end_time": "2025-03-03T16:59:16.037738",
     "exception": false,
     "start_time": "2025-03-03T16:59:15.955615",
     "status": "completed"
    },
    "tags": []
   },
   "outputs": [],
   "source": []
  },
  {
   "cell_type": "code",
   "execution_count": null,
   "id": "a46236ef",
   "metadata": {
    "papermill": {
     "duration": 0.08126,
     "end_time": "2025-03-03T16:59:16.202620",
     "exception": false,
     "start_time": "2025-03-03T16:59:16.121360",
     "status": "completed"
    },
    "tags": []
   },
   "outputs": [],
   "source": []
  },
  {
   "cell_type": "code",
   "execution_count": null,
   "id": "d7e3984d",
   "metadata": {
    "papermill": {
     "duration": 0.081895,
     "end_time": "2025-03-03T16:59:16.365726",
     "exception": false,
     "start_time": "2025-03-03T16:59:16.283831",
     "status": "completed"
    },
    "tags": []
   },
   "outputs": [],
   "source": []
  },
  {
   "cell_type": "code",
   "execution_count": null,
   "id": "c3b7e052",
   "metadata": {
    "papermill": {
     "duration": 0.08092,
     "end_time": "2025-03-03T16:59:16.528807",
     "exception": false,
     "start_time": "2025-03-03T16:59:16.447887",
     "status": "completed"
    },
    "tags": []
   },
   "outputs": [],
   "source": []
  },
  {
   "cell_type": "code",
   "execution_count": 23,
   "id": "56b40905",
   "metadata": {
    "execution": {
     "iopub.execute_input": "2025-03-03T16:59:16.691962Z",
     "iopub.status.busy": "2025-03-03T16:59:16.691635Z",
     "iopub.status.idle": "2025-03-03T16:59:16.702071Z",
     "shell.execute_reply": "2025-03-03T16:59:16.701204Z"
    },
    "papermill": {
     "duration": 0.093852,
     "end_time": "2025-03-03T16:59:16.703535",
     "exception": false,
     "start_time": "2025-03-03T16:59:16.609683",
     "status": "completed"
    },
    "tags": []
   },
   "outputs": [
    {
     "data": {
      "text/html": [
       "<div>\n",
       "<style scoped>\n",
       "    .dataframe tbody tr th:only-of-type {\n",
       "        vertical-align: middle;\n",
       "    }\n",
       "\n",
       "    .dataframe tbody tr th {\n",
       "        vertical-align: top;\n",
       "    }\n",
       "\n",
       "    .dataframe thead th {\n",
       "        text-align: right;\n",
       "    }\n",
       "</style>\n",
       "<table border=\"1\" class=\"dataframe\">\n",
       "  <thead>\n",
       "    <tr style=\"text-align: right;\">\n",
       "      <th></th>\n",
       "      <th>essay_id</th>\n",
       "      <th>score</th>\n",
       "    </tr>\n",
       "  </thead>\n",
       "  <tbody>\n",
       "    <tr>\n",
       "      <th>0</th>\n",
       "      <td>000d118</td>\n",
       "      <td>3</td>\n",
       "    </tr>\n",
       "    <tr>\n",
       "      <th>1</th>\n",
       "      <td>000fe60</td>\n",
       "      <td>3</td>\n",
       "    </tr>\n",
       "    <tr>\n",
       "      <th>2</th>\n",
       "      <td>001ab80</td>\n",
       "      <td>4</td>\n",
       "    </tr>\n",
       "  </tbody>\n",
       "</table>\n",
       "</div>"
      ],
      "text/plain": [
       "  essay_id  score\n",
       "0  000d118      3\n",
       "1  000fe60      3\n",
       "2  001ab80      4"
      ]
     },
     "execution_count": 23,
     "metadata": {},
     "output_type": "execute_result"
    }
   ],
   "source": [
    "sub2 = pd.read_csv('/kaggle/input/sub-ml/sub2.csv')\n",
    "sub2"
   ]
  },
  {
   "cell_type": "code",
   "execution_count": 24,
   "id": "4d19590d",
   "metadata": {
    "execution": {
     "iopub.execute_input": "2025-03-03T16:59:16.869625Z",
     "iopub.status.busy": "2025-03-03T16:59:16.869366Z",
     "iopub.status.idle": "2025-03-03T16:59:16.873959Z",
     "shell.execute_reply": "2025-03-03T16:59:16.873300Z"
    },
    "papermill": {
     "duration": 0.090027,
     "end_time": "2025-03-03T16:59:16.875148",
     "exception": false,
     "start_time": "2025-03-03T16:59:16.785121",
     "status": "completed"
    },
    "tags": []
   },
   "outputs": [],
   "source": [
    "ml_weight = 0.683\n",
    "dl_weight = 0.789\n",
    "\n",
    "# 가중치 계산\n",
    "w_xgb = ml_weight / (ml_weight + dl_weight) \n",
    "w_transformer = dl_weight / (ml_weight + dl_weight)\n",
    "\n",
    "# 가중 평균 앙상블\n",
    "y_pred_ensemble = np.round(w_xgb * sub['score'] + w_transformer * sub2['score']).astype(int)"
   ]
  },
  {
   "cell_type": "code",
   "execution_count": 25,
   "id": "18cebce5",
   "metadata": {
    "execution": {
     "iopub.execute_input": "2025-03-03T16:59:17.042971Z",
     "iopub.status.busy": "2025-03-03T16:59:17.042691Z",
     "iopub.status.idle": "2025-03-03T16:59:17.049937Z",
     "shell.execute_reply": "2025-03-03T16:59:17.049151Z"
    },
    "papermill": {
     "duration": 0.091825,
     "end_time": "2025-03-03T16:59:17.051083",
     "exception": false,
     "start_time": "2025-03-03T16:59:16.959258",
     "status": "completed"
    },
    "tags": []
   },
   "outputs": [
    {
     "data": {
      "text/html": [
       "<div>\n",
       "<style scoped>\n",
       "    .dataframe tbody tr th:only-of-type {\n",
       "        vertical-align: middle;\n",
       "    }\n",
       "\n",
       "    .dataframe tbody tr th {\n",
       "        vertical-align: top;\n",
       "    }\n",
       "\n",
       "    .dataframe thead th {\n",
       "        text-align: right;\n",
       "    }\n",
       "</style>\n",
       "<table border=\"1\" class=\"dataframe\">\n",
       "  <thead>\n",
       "    <tr style=\"text-align: right;\">\n",
       "      <th></th>\n",
       "      <th>essay_id</th>\n",
       "      <th>score</th>\n",
       "    </tr>\n",
       "  </thead>\n",
       "  <tbody>\n",
       "    <tr>\n",
       "      <th>0</th>\n",
       "      <td>000d118</td>\n",
       "      <td>3</td>\n",
       "    </tr>\n",
       "    <tr>\n",
       "      <th>1</th>\n",
       "      <td>000fe60</td>\n",
       "      <td>3</td>\n",
       "    </tr>\n",
       "    <tr>\n",
       "      <th>2</th>\n",
       "      <td>001ab80</td>\n",
       "      <td>4</td>\n",
       "    </tr>\n",
       "  </tbody>\n",
       "</table>\n",
       "</div>"
      ],
      "text/plain": [
       "  essay_id  score\n",
       "0  000d118      3\n",
       "1  000fe60      3\n",
       "2  001ab80      4"
      ]
     },
     "execution_count": 25,
     "metadata": {},
     "output_type": "execute_result"
    }
   ],
   "source": [
    "sub['score'] = y_pred_ensemble\n",
    "sub"
   ]
  },
  {
   "cell_type": "code",
   "execution_count": 26,
   "id": "e225b92d",
   "metadata": {
    "execution": {
     "iopub.execute_input": "2025-03-03T16:59:17.267630Z",
     "iopub.status.busy": "2025-03-03T16:59:17.267321Z",
     "iopub.status.idle": "2025-03-03T16:59:17.275317Z",
     "shell.execute_reply": "2025-03-03T16:59:17.274609Z"
    },
    "papermill": {
     "duration": 0.140226,
     "end_time": "2025-03-03T16:59:17.276472",
     "exception": false,
     "start_time": "2025-03-03T16:59:17.136246",
     "status": "completed"
    },
    "tags": []
   },
   "outputs": [],
   "source": [
    "sub.to_csv('submission.csv', index = False)"
   ]
  },
  {
   "cell_type": "code",
   "execution_count": null,
   "id": "b9832676",
   "metadata": {
    "papermill": {
     "duration": 0.08266,
     "end_time": "2025-03-03T16:59:17.442784",
     "exception": false,
     "start_time": "2025-03-03T16:59:17.360124",
     "status": "completed"
    },
    "tags": []
   },
   "outputs": [],
   "source": []
  }
 ],
 "metadata": {
  "kaggle": {
   "accelerator": "gpu",
   "dataSources": [
    {
     "databundleVersionId": 8059942,
     "sourceId": 71485,
     "sourceType": "competition"
    },
    {
     "datasetId": 6780926,
     "sourceId": 10908924,
     "sourceType": "datasetVersion"
    },
    {
     "datasetId": 6781492,
     "sourceId": 10909645,
     "sourceType": "datasetVersion"
    }
   ],
   "dockerImageVersionId": 30919,
   "isGpuEnabled": true,
   "isInternetEnabled": false,
   "language": "python",
   "sourceType": "notebook"
  },
  "kernelspec": {
   "display_name": "Python 3",
   "language": "python",
   "name": "python3"
  },
  "language_info": {
   "codemirror_mode": {
    "name": "ipython",
    "version": 3
   },
   "file_extension": ".py",
   "mimetype": "text/x-python",
   "name": "python",
   "nbconvert_exporter": "python",
   "pygments_lexer": "ipython3",
   "version": "3.10.12"
  },
  "papermill": {
   "default_parameters": {},
   "duration": 494.049926,
   "end_time": "2025-03-03T16:59:20.086177",
   "environment_variables": {},
   "exception": null,
   "input_path": "__notebook__.ipynb",
   "output_path": "__notebook__.ipynb",
   "parameters": {},
   "start_time": "2025-03-03T16:51:06.036251",
   "version": "2.6.0"
  }
 },
 "nbformat": 4,
 "nbformat_minor": 5
}
